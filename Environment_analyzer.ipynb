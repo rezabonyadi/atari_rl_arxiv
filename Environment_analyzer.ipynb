{
 "cells": [
  {
   "cell_type": "code",
   "execution_count": 2,
   "metadata": {},
   "outputs": [],
   "source": [
    "from gym import envs\n",
    "import numpy as np\n",
    "import pandas as pd\n",
    "def get_game_properties(env_id, actions, n, r, max_r, min_r, sparsity):\n",
    "    res = {}\n",
    "    res['game'] = env_id\n",
    "    res['actions'] = actions\n",
    "    res['average_num_frames'] = n\n",
    "    res['average_reward'] = r\n",
    "    res['max_reward'] = max_r\n",
    "    res['min_reward'] = min_r\n",
    "    res['mean_sparsity'] = np.mean(sparsity)\n",
    "    res['median_sparsity'] = np.median(sparsity)\n",
    "    res['max_sparsity'] = np.max(sparsity)\n",
    "    res['min_sparsity'] = np.min(sparsity)\n",
    "    print(res)\n",
    "    return res"
   ]
  },
  {
   "cell_type": "code",
   "execution_count": null,
   "metadata": {
    "scrolled": true
   },
   "outputs": [
    {
     "name": "stdout",
     "output_type": "stream",
     "text": [
      "{'game': None, 'actions': None, 'average_num_frames': None, 'average_reward': None, 'max_reward': None, 'min_reward': None, 'mean_sparsity': 0.0, 'median_sparsity': 0.0, 'max_sparsity': 0, 'min_sparsity': 0}\n",
      "AdventureDeterministic-v4\n",
      "Adventure-ramDeterministic-v4\n",
      "AirRaidDeterministic-v4\n",
      "AirRaid-ramDeterministic-v4\n",
      "AlienDeterministic-v4\n",
      "Alien-ramDeterministic-v4\n",
      "AmidarDeterministic-v4\n",
      "Amidar-ramDeterministic-v4\n",
      "AssaultDeterministic-v4\n",
      "Assault-ramDeterministic-v4\n",
      "AsterixDeterministic-v4\n",
      "Asterix-ramDeterministic-v4\n",
      "AsteroidsDeterministic-v4\n",
      "Asteroids-ramDeterministic-v4\n",
      "AtlantisDeterministic-v4\n",
      "Atlantis-ramDeterministic-v4\n",
      "BankHeistDeterministic-v4\n",
      "BankHeist-ramDeterministic-v4\n",
      "BattleZoneDeterministic-v4\n",
      "BattleZone-ramDeterministic-v4\n",
      "BeamRiderDeterministic-v4\n",
      "BeamRider-ramDeterministic-v4\n",
      "BerzerkDeterministic-v4\n",
      "Berzerk-ramDeterministic-v4\n",
      "BowlingDeterministic-v4\n",
      "Bowling-ramDeterministic-v4\n",
      "BoxingDeterministic-v4\n",
      "Boxing-ramDeterministic-v4\n",
      "BreakoutDeterministic-v4\n",
      "Breakout-ramDeterministic-v4\n",
      "CarnivalDeterministic-v4\n",
      "Carnival-ramDeterministic-v4\n",
      "CentipedeDeterministic-v4\n",
      "Centipede-ramDeterministic-v4\n",
      "ChopperCommandDeterministic-v4\n",
      "ChopperCommand-ramDeterministic-v4\n",
      "CrazyClimberDeterministic-v4\n",
      "CrazyClimber-ramDeterministic-v4\n",
      "DefenderDeterministic-v4\n"
     ]
    }
   ],
   "source": [
    "zz = get_game_properties(None, None, None, None, None, None, [0])\n",
    "games_properties = pd.DataFrame(columns=np.asarray(list(zz.keys())))\n",
    "\n",
    "all_envs = list(envs.registry.all())\n",
    "num_runs = 10\n",
    "\n",
    "for env in all_envs:\n",
    "    if ('Deterministic-v4' in env.id):\n",
    "        print(env.id)\n",
    "        if env.id != 'DefenderDeterministic-v4':\n",
    "            continue        \n",
    "\n",
    "        try:\n",
    "            m = env.make()\n",
    "            made = True\n",
    "        except:\n",
    "            made = False\n",
    "            print('Couldnt make')\n",
    "            \n",
    "        if (made==True) and (m.observation_space.shape[0] >= 200):\n",
    "            print('Analysing')\n",
    "            n = 0          \n",
    "            r = 0\n",
    "            max_r = -1000000\n",
    "            min_r = 1000000\n",
    "            sparsity = []\n",
    "            for i in range(0, num_runs):\n",
    "                print(i)\n",
    "                observation = m.reset()\n",
    "                for _ in range(0, 5):\n",
    "                    m.step(1)\n",
    "                j = 0    \n",
    "                last_reward = 0\n",
    "                \n",
    "                while True:\n",
    "                    print(j)\n",
    "                    action = m.action_space.sample()\n",
    "                    observation, reward, done, info = m.step(action)\n",
    "#                     m.render()\n",
    "                    n += 1 # Number of frames per game\n",
    "                    r += reward # Total reward per game\n",
    "                    if reward != 0:\n",
    "                        sparsity.append(j-last_reward)\n",
    "                        last_reward = j\n",
    "                        \n",
    "                    j += 1 # Step in the game\n",
    "                    max_r = np.max((reward, max_r)) # A usual max reward \n",
    "                    min_r = np.min((reward, min_r)) # A usual min reward \n",
    "                    if done or (j>6000):\n",
    "                        sparsity.append(j-last_reward)\n",
    "                        last_reward = j\n",
    "                        break                    \n",
    "                     \n",
    "            m.close()\n",
    "#             print(env.id, ', ', m.action_space, ', ', n/num_runs, ', ', r/num_runs, ', ', max_r, ', ', min_r)\n",
    "            games_properties = games_properties.append(get_game_properties(env.id, m.action_space, n/num_runs, r/num_runs, \n",
    "                                                                           max_r, min_r,np.asarray(sparsity)), ignore_index=True)\n",
    "        else:\n",
    "            m.close()\n",
    "\n",
    "i=0"
   ]
  },
  {
   "cell_type": "code",
   "execution_count": 16,
   "metadata": {},
   "outputs": [],
   "source": [
    "all_envs = list(envs.registry.all())\n",
    "e = all_envs[150]"
   ]
  },
  {
   "cell_type": "code",
   "execution_count": 19,
   "metadata": {},
   "outputs": [
    {
     "data": {
      "text/plain": [
       "{'wrapper_config.TimeLimit.max_episode_steps': 100000}"
      ]
     },
     "execution_count": 19,
     "metadata": {},
     "output_type": "execute_result"
    }
   ],
   "source": [
    "e.tags"
   ]
  },
  {
   "cell_type": "code",
   "execution_count": null,
   "metadata": {},
   "outputs": [],
   "source": [
    "import gym\n",
    "env = gym.make('Humanoid-v2')\n",
    "env.reset()\n",
    "for _ in range(1000):\n",
    "    env.render()\n",
    "    env.step(env.action_space.sample()) # take a random action\n",
    "env.close()"
   ]
  },
  {
   "cell_type": "code",
   "execution_count": 1,
   "metadata": {},
   "outputs": [
    {
     "data": {
      "text/plain": [
       "<Figure size 640x480 with 1 Axes>"
      ]
     },
     "metadata": {},
     "output_type": "display_data"
    },
    {
     "name": "stdout",
     "output_type": "stream",
     "text": [
      "BreakoutDeterministic-v4 ,  Discrete(4) ,  194.9 ,  1.5 ,  1.0\n"
     ]
    },
    {
     "data": {
      "text/plain": [
       "<Figure size 640x480 with 1 Axes>"
      ]
     },
     "metadata": {},
     "output_type": "display_data"
    },
    {
     "name": "stdout",
     "output_type": "stream",
     "text": [
      "AsterixDeterministic-v4 ,  Discrete(9) ,  236.7 ,  205.0 ,  50.0\n"
     ]
    },
    {
     "data": {
      "text/plain": [
       "<Figure size 640x480 with 1 Axes>"
      ]
     },
     "metadata": {},
     "output_type": "display_data"
    },
    {
     "name": "stdout",
     "output_type": "stream",
     "text": [
      "CarnivalDeterministic-v4 ,  Discrete(6) ,  366.7 ,  674.0 ,  800.0\n"
     ]
    },
    {
     "data": {
      "text/plain": [
       "<Figure size 640x480 with 1 Axes>"
      ]
     },
     "metadata": {},
     "output_type": "display_data"
    },
    {
     "name": "stdout",
     "output_type": "stream",
     "text": [
      "MsPacmanDeterministic-v4 ,  Discrete(9) ,  451.6 ,  233.0 ,  10.0\n"
     ]
    },
    {
     "name": "stderr",
     "output_type": "stream",
     "text": [
      "ERROR:root:Internal Python error in the inspect module.\n",
      "Below is the traceback from this internal error.\n",
      "\n"
     ]
    },
    {
     "name": "stdout",
     "output_type": "stream",
     "text": [
      "Traceback (most recent call last):\n",
      "  File \"C:\\ProgramData\\Anaconda3\\lib\\site-packages\\IPython\\core\\interactiveshell.py\", line 1863, in showtraceback\n",
      "    stb = value._render_traceback_()\n",
      "AttributeError: 'KeyboardInterrupt' object has no attribute '_render_traceback_'\n",
      "\n",
      "During handling of the above exception, another exception occurred:\n",
      "\n",
      "Traceback (most recent call last):\n",
      "  File \"C:\\ProgramData\\Anaconda3\\lib\\site-packages\\IPython\\core\\ultratb.py\", line 1095, in get_records\n",
      "    return _fixed_getinnerframes(etb, number_of_lines_of_context, tb_offset)\n",
      "  File \"C:\\ProgramData\\Anaconda3\\lib\\site-packages\\IPython\\core\\ultratb.py\", line 311, in wrapped\n",
      "    return f(*args, **kwargs)\n",
      "  File \"C:\\ProgramData\\Anaconda3\\lib\\site-packages\\IPython\\core\\ultratb.py\", line 345, in _fixed_getinnerframes\n",
      "    records = fix_frame_records_filenames(inspect.getinnerframes(etb, context))\n",
      "  File \"C:\\ProgramData\\Anaconda3\\lib\\inspect.py\", line 1483, in getinnerframes\n",
      "    frameinfo = (tb.tb_frame,) + getframeinfo(tb, context)\n",
      "  File \"C:\\ProgramData\\Anaconda3\\lib\\inspect.py\", line 1441, in getframeinfo\n",
      "    filename = getsourcefile(frame) or getfile(frame)\n",
      "  File \"C:\\ProgramData\\Anaconda3\\lib\\inspect.py\", line 696, in getsourcefile\n",
      "    if getattr(getmodule(object, filename), '__loader__', None) is not None:\n",
      "  File \"C:\\ProgramData\\Anaconda3\\lib\\inspect.py\", line 739, in getmodule\n",
      "    f = getabsfile(module)\n",
      "  File \"C:\\ProgramData\\Anaconda3\\lib\\inspect.py\", line 708, in getabsfile\n",
      "    _filename = getsourcefile(object) or getfile(object)\n",
      "  File \"C:\\ProgramData\\Anaconda3\\lib\\inspect.py\", line 693, in getsourcefile\n",
      "    if os.path.exists(filename):\n",
      "  File \"C:\\ProgramData\\Anaconda3\\lib\\genericpath.py\", line 19, in exists\n",
      "    os.stat(path)\n",
      "KeyboardInterrupt\n"
     ]
    },
    {
     "ename": "KeyboardInterrupt",
     "evalue": "",
     "output_type": "error",
     "traceback": [
      "\u001b[1;31m---------------------------------------------------------------------------\u001b[0m"
     ]
    },
    {
     "data": {
      "text/plain": [
       "<Figure size 640x480 with 1 Axes>"
      ]
     },
     "metadata": {},
     "output_type": "display_data"
    },
    {
     "name": "stdout",
     "output_type": "stream",
     "text": [
      "UpNDownDeterministic-v4 ,  Discrete(6) ,  489.0 ,  394.0 ,  400.0\n"
     ]
    },
    {
     "name": "stderr",
     "output_type": "stream",
     "text": [
      "ERROR:root:Internal Python error in the inspect module.\n",
      "Below is the traceback from this internal error.\n",
      "\n"
     ]
    },
    {
     "name": "stdout",
     "output_type": "stream",
     "text": [
      "Traceback (most recent call last):\n",
      "  File \"C:\\ProgramData\\Anaconda3\\lib\\site-packages\\IPython\\core\\interactiveshell.py\", line 2963, in run_code\n",
      "    exec(code_obj, self.user_global_ns, self.user_ns)\n",
      "  File \"<ipython-input-1-08afe42977b0>\", line 16, in <module>\n",
      "    observation = m.reset()\n",
      "  File \"C:\\Users\\reza.bonyadi\\AppData\\Roaming\\Python\\Python36\\site-packages\\gym\\wrappers\\time_limit.py\", line 25, in reset\n",
      "    return self.env.reset(**kwargs)\n",
      "  File \"C:\\Users\\reza.bonyadi\\AppData\\Roaming\\Python\\Python36\\site-packages\\gym\\envs\\atari\\atari_env.py\", line 144, in reset\n",
      "    self.ale.reset_game()\n",
      "  File \"C:\\Users\\reza.bonyadi\\AppData\\Roaming\\Python\\Python36\\site-packages\\atari_py\\ale_python_interface.py\", line 177, in reset_game\n",
      "    ale_lib.reset_game(self.obj)\n",
      "KeyboardInterrupt\n",
      "\n",
      "During handling of the above exception, another exception occurred:\n",
      "\n",
      "Traceback (most recent call last):\n",
      "  File \"C:\\ProgramData\\Anaconda3\\lib\\site-packages\\IPython\\core\\interactiveshell.py\", line 1863, in showtraceback\n",
      "    stb = value._render_traceback_()\n",
      "AttributeError: 'KeyboardInterrupt' object has no attribute '_render_traceback_'\n",
      "\n",
      "During handling of the above exception, another exception occurred:\n",
      "\n",
      "Traceback (most recent call last):\n",
      "  File \"C:\\ProgramData\\Anaconda3\\lib\\site-packages\\IPython\\core\\ultratb.py\", line 1095, in get_records\n",
      "    return _fixed_getinnerframes(etb, number_of_lines_of_context, tb_offset)\n",
      "  File \"C:\\ProgramData\\Anaconda3\\lib\\site-packages\\IPython\\core\\ultratb.py\", line 311, in wrapped\n",
      "    return f(*args, **kwargs)\n",
      "  File \"C:\\ProgramData\\Anaconda3\\lib\\site-packages\\IPython\\core\\ultratb.py\", line 345, in _fixed_getinnerframes\n",
      "    records = fix_frame_records_filenames(inspect.getinnerframes(etb, context))\n",
      "  File \"C:\\ProgramData\\Anaconda3\\lib\\inspect.py\", line 1483, in getinnerframes\n",
      "    frameinfo = (tb.tb_frame,) + getframeinfo(tb, context)\n",
      "  File \"C:\\ProgramData\\Anaconda3\\lib\\inspect.py\", line 1441, in getframeinfo\n",
      "    filename = getsourcefile(frame) or getfile(frame)\n",
      "  File \"C:\\ProgramData\\Anaconda3\\lib\\inspect.py\", line 696, in getsourcefile\n",
      "    if getattr(getmodule(object, filename), '__loader__', None) is not None:\n",
      "  File \"C:\\ProgramData\\Anaconda3\\lib\\inspect.py\", line 739, in getmodule\n",
      "    f = getabsfile(module)\n",
      "  File \"C:\\ProgramData\\Anaconda3\\lib\\inspect.py\", line 708, in getabsfile\n",
      "    _filename = getsourcefile(object) or getfile(object)\n",
      "  File \"C:\\ProgramData\\Anaconda3\\lib\\inspect.py\", line 693, in getsourcefile\n",
      "    if os.path.exists(filename):\n",
      "  File \"C:\\ProgramData\\Anaconda3\\lib\\genericpath.py\", line 19, in exists\n",
      "    os.stat(path)\n",
      "KeyboardInterrupt\n"
     ]
    },
    {
     "ename": "KeyboardInterrupt",
     "evalue": "",
     "output_type": "error",
     "traceback": [
      "\u001b[1;31m---------------------------------------------------------------------------\u001b[0m"
     ]
    }
   ],
   "source": [
    "import gym\n",
    "import numpy as np\n",
    "from matplotlib import pyplot as plt\n",
    "\n",
    "all_envs = ['BreakoutDeterministic-v4', 'AsterixDeterministic-v4', 'CarnivalDeterministic-v4', 'MsPacmanDeterministic-v4',\n",
    "    'UpNDownDeterministic-v4', 'AssaultDeterministic-v4', 'BerzerkDeterministic-v4',\n",
    "    'QbertDeterministic-v4', 'AmidarDeterministic-v4', 'SpaceInvadersDeterministic-v4']\n",
    "\n",
    "for env in all_envs:\n",
    "    m = gym.make(env)\n",
    "    n = 0      \n",
    "    r = 0\n",
    "    max_r = -100000\n",
    "    rs = []\n",
    "    for i in range(0, 10):\n",
    "        observation = m.reset()\n",
    "        for _ in range(0, 5):\n",
    "            m.step(1)\n",
    "        j = 0    \n",
    "        \n",
    "        while True:\n",
    "            action = m.action_space.sample()\n",
    "            observation, reward, done, info = m.step(action)\n",
    "            m.render()\n",
    "#                     pause(1)\n",
    "            n += 1\n",
    "            r += reward\n",
    "            j += 1\n",
    "            max_r = np.max((reward, max_r))\n",
    "            if reward != 0:\n",
    "                rs.append(reward)\n",
    "            if done or (j>6000):\n",
    "                break                    \n",
    "\n",
    "    m.close()\n",
    "    plt.hist(rs)\n",
    "    plt.show()\n",
    "    print(env, ', ', m.action_space, ', ', n/10.0, ', ', r/10.0, ', ', max_r)\n",
    "\n",
    "\n",
    "i=0\n"
   ]
  },
  {
   "cell_type": "code",
   "execution_count": 1,
   "metadata": {},
   "outputs": [],
   "source": [
    "from matplotlib import pyplot as plt\n"
   ]
  }
 ],
 "metadata": {
  "kernelspec": {
   "display_name": "Python 3",
   "language": "python",
   "name": "python3"
  },
  "language_info": {
   "codemirror_mode": {
    "name": "ipython",
    "version": 3
   },
   "file_extension": ".py",
   "mimetype": "text/x-python",
   "name": "python",
   "nbconvert_exporter": "python",
   "pygments_lexer": "ipython3",
   "version": "3.6.5"
  }
 },
 "nbformat": 4,
 "nbformat_minor": 2
}
